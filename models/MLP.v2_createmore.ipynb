{
 "cells": [
  {
   "cell_type": "code",
   "execution_count": 1,
   "metadata": {},
   "outputs": [],
   "source": [
    "import torch\n",
    "import torch.nn.functional as F\n",
    "import matplotlib.pyplot as plt\n",
    "%matplotlib inline"
   ]
  },
  {
   "attachments": {},
   "cell_type": "markdown",
   "metadata": {},
   "source": [
    "<h1>MULTI-LAYER PERCEPTRON NEURAL NETWORK V2</h1>"
   ]
  },
  {
   "attachments": {},
   "cell_type": "markdown",
   "metadata": {},
   "source": [
    "inspiration: A Neural Probabilistic Language Model, Yoshua Bengio\n",
    "\n",
    "character-level language model\n",
    "\n",
    "model initialization and normalization"
   ]
  },
  {
   "cell_type": "code",
   "execution_count": 2,
   "metadata": {},
   "outputs": [],
   "source": [
    "# read in words\n",
    "words = open('../data/names.txt', 'r').read().splitlines()"
   ]
  },
  {
   "cell_type": "code",
   "execution_count": 3,
   "metadata": {},
   "outputs": [
    {
     "data": {
      "text/plain": [
       "32033"
      ]
     },
     "execution_count": 3,
     "metadata": {},
     "output_type": "execute_result"
    }
   ],
   "source": [
    "chars = sorted(list(set(''.join(words))))\n",
    "string_to_index = {s : i + 1 for i, s in enumerate(chars)}\n",
    "string_to_index['.'] = 0\n",
    "index_to_string = {i : s for s, i in string_to_index.items()}\n",
    "vocab_size = len(index_to_string)\n",
    "len(words)"
   ]
  },
  {
   "cell_type": "code",
   "execution_count": 4,
   "metadata": {},
   "outputs": [
    {
     "name": "stdout",
     "output_type": "stream",
     "text": [
      "torch.Size([182625, 3]) torch.Size([182625])\n",
      "torch.Size([22655, 3]) torch.Size([22655])\n",
      "torch.Size([22866, 3]) torch.Size([22866])\n"
     ]
    }
   ],
   "source": [
    "# build dataset\n",
    "\n",
    "block_size = 3 # context length\n",
    "\n",
    "def build_dataset(words):\n",
    "    X, Y = [], []\n",
    "\n",
    "    for word in words:\n",
    "        context = [0] * block_size\n",
    "        for character in word + '.':\n",
    "            index_x = string_to_index[character]\n",
    "            X.append(context)\n",
    "            Y.append(index_x)\n",
    "            context = context[1:] + [index_x]\n",
    "    \n",
    "    X = torch.tensor(X)\n",
    "    Y = torch.tensor(Y)\n",
    "    print(X.shape, Y.shape)\n",
    "    return X, Y\n",
    "\n",
    "\n",
    "import random\n",
    "random.seed(42)\n",
    "random.shuffle(words)\n",
    "n1 = int(0.8 * len(words))\n",
    "n2 = int(0.9 * len(words))\n",
    "\n",
    "X_train, Y_train = build_dataset(words[:n1]) # 80%\n",
    "X_dev, Y_dev = build_dataset(words[n1:n2]) # 10%\n",
    "X_test, Y_test = build_dataset(words[n2:]) # 10%"
   ]
  },
  {
   "cell_type": "code",
   "execution_count": 5,
   "metadata": {},
   "outputs": [
    {
     "name": "stdout",
     "output_type": "stream",
     "text": [
      "11697\n"
     ]
    }
   ],
   "source": [
    "# MLP revisited\n",
    "n_embed = 10 # the dimensionality of the charecter embedding vectors\n",
    "n_hidden = 200 # number of neurons in hidden layer\n",
    "\n",
    "# normalize initial values to prevent dead tanh neurons and extreme logit values\n",
    "generator = torch.Generator().manual_seed(2147483647)\n",
    "C = torch.randn((vocab_size, n_embed)            , generator = generator)\n",
    "W1 = torch.randn((n_embed * block_size, n_hidden), generator = generator) * (5/3) / ((n_embed * block_size)** 0.5)\n",
    "# b1 = torch.randn(n_hidden,                       generator = generator) * 0.01 (get rid of bias as it is removed during batch normalization)\n",
    "W2 = torch.randn((n_hidden, vocab_size),           generator = generator) * 0.01 \n",
    "b2 = torch.randn(vocab_size,                       generator = generator) * 0\n",
    "\n",
    "batch_normal_gain = torch.ones((1, n_hidden))\n",
    "batch_normal_bias = torch.zeros((1, n_hidden)) \n",
    "\n",
    "batch_normal_std_running = torch.ones((1, n_hidden))\n",
    "batch_normal_mean_running = torch.zeros((1, n_hidden))\n",
    "\n",
    "parameters = [C, W1, W2, b2]\n",
    "print(sum(parameter.nelement() for parameter in parameters))\n",
    "for parameter in parameters:\n",
    "    parameter.requires_grad = True"
   ]
  },
  {
   "cell_type": "code",
   "execution_count": 6,
   "metadata": {},
   "outputs": [
    {
     "name": "stdout",
     "output_type": "stream",
     "text": [
      "tensor(0.0005) tensor(0.9990)\n",
      "tensor(0.0017) tensor(1.0279)\n"
     ]
    },
    {
     "data": {
      "image/png": "[encoded data removed]",
      "text/plain": [
       "<Figure size 2000x500 with 2 Axes>"
      ]
     },
     "metadata": {},
     "output_type": "display_data"
    }
   ],
   "source": [
    "# example of layers expanding an inputs gaussian distribution\n",
    "x = torch.randn(1000, 10)\n",
    "w = torch.randn(10, 200) / 10 ** 0.5\n",
    "y = x @ w\n",
    "print(x.mean(), x.std())\n",
    "print(y.mean(), y.std())\n",
    "\n",
    "plt.figure(figsize=(20,5))\n",
    "plt.subplot(121)\n",
    "plt.hist(x.view(-1).tolist(), 50, density=True);\n",
    "plt.subplot(122)\n",
    "plt.hist(y.view(-1).tolist(), 50, density=True);"
   ]
  },
  {
   "cell_type": "code",
   "execution_count": 7,
   "metadata": {},
   "outputs": [
    {
     "name": "stdout",
     "output_type": "stream",
     "text": [
      "      0/  200000: 3.3239\n"
     ]
    }
   ],
   "source": [
    "# optimization\n",
    "max_steps = 200000\n",
    "batch_size = 32\n",
    "lossi = []\n",
    "\n",
    "for i in range(max_steps):\n",
    "\n",
    "    # minibatch construct\n",
    "    index_x = torch.randint(0, X_train.shape[0], (batch_size,), generator = generator)\n",
    "    X_batch, Y_batch = X_train[index_x], Y_train[index_x] # batch X, Y\n",
    "\n",
    "    # forward pass\n",
    "    embed = C[X_batch]\n",
    "    embed_concat = embed.view(embed.shape[0], -1) # concatenate the vectors\n",
    "    # linear layer\n",
    "    hidden_preact = embed_concat @ W1 # + b1  hidden layer pre-activation\n",
    "\n",
    "    # batch norm layer\n",
    "    batch_normal_mean_i = hidden_preact.mean(0, keepdim=True) # ith batch's mean\n",
    "    batch_normal_std_i = hidden_preact.std(0, keepdim=True) # ith batch's std deviation\n",
    "    hidden_preact = batch_normal_gain * (hidden_preact - batch_normal_mean_i) / batch_normal_std_i + batch_normal_bias # normalize hpreact neurons to unit gaussian for batch (batch normalization)\n",
    "    # keep track of running mean/std to use during inference and evaluation\n",
    "    with torch.no_grad(): \n",
    "        batch_normal_mean_running = 0.999 * batch_normal_mean_running + 0.001 * batch_normal_mean_i\n",
    "        batch_normal_std_running = 0.999 * batch_normal_std_running + 0.001 * batch_normal_std_i\n",
    "\n",
    "\n",
    "    # non-linearity\n",
    "    hidden_layer = torch.tanh(hidden_preact)\n",
    "    logits = hidden_layer @ W2 + b2 # output layer\n",
    "    loss = F.cross_entropy(logits, Y_batch) # loss function\n",
    "\n",
    "    #backward pass\n",
    "    for parameter in parameters:\n",
    "        parameter.grad = None\n",
    "    loss.backward()\n",
    "\n",
    "    # update\n",
    "    learning_rate = 0.1 if i < 100000 else 0.01 #learning rate decay\n",
    "    for parameter in parameters:\n",
    "        parameter.data += -learning_rate * parameter.grad\n",
    "\n",
    "    # track stats\n",
    "    if i % 10000 == 0:\n",
    "        print(f\"{i:7d}/ {max_steps:7d}: {loss.item():.4f}\")\n",
    "    lossi.append(loss.log10().item())    \n"
   ]
  },
  {
   "cell_type": "code",
   "execution_count": null,
   "metadata": {},
   "outputs": [
    {
     "data": {
      "text/plain": [
       "[<matplotlib.lines.Line2D at 0x14711fed0>]"
      ]
     },
     "execution_count": 65,
     "metadata": {},
     "output_type": "execute_result"
    },
    {
     "data": {
      "image/png": "[encoded data removed]",
      "text/plain": [
       "<Figure size 640x480 with 1 Axes>"
      ]
     },
     "metadata": {},
     "output_type": "display_data"
    }
   ],
   "source": [
    "plt.plot(lossi)"
   ]
  },
  {
   "cell_type": "code",
   "execution_count": null,
   "metadata": {},
   "outputs": [
    {
     "name": "stdout",
     "output_type": "stream",
     "text": [
      "train 2.0779716968536377\n",
      "development 2.112131357192993\n"
     ]
    }
   ],
   "source": [
    "@torch.no_grad() # disables gradient tracking\n",
    "def split_loss(split):\n",
    "    x,y = {\n",
    "        'train': (X_train, Y_train),\n",
    "        'development': (X_dev, Y_dev),\n",
    "        'test': (X_test, Y_test),\n",
    "    }[split]\n",
    "    embed = C[x] # (N, block_size, n_embd)\n",
    "    embed_concat = embed.view(embed.shape[0], -1) # concat into (N, block_size * n_embd)\n",
    "    hidden_preact = embed_concat @ W1  # hidden layer pre-activation\n",
    "    hidden_preact = batch_normal_gain * (hidden_preact - batch_normal_mean_running) / batch_normal_std_running + batch_normal_bias # normalize hpreact neurons to unit gaussian for batch (batch normalization)\n",
    "    hidden_layer = torch.tanh(hidden_preact) # (N, n_hidden)\n",
    "    logits = hidden_layer @ W2 + b2 # (N, vocab_size)\n",
    "    loss = F.cross_entropy(logits, y)\n",
    "    print(split, loss.item())\n",
    "\n",
    "split_loss('train')\n",
    "split_loss('development')"
   ]
  },
  {
   "cell_type": "code",
   "execution_count": null,
   "metadata": {},
   "outputs": [
    {
     "name": "stdout",
     "output_type": "stream",
     "text": [
      "carmahxate.\n",
      "hari.\n",
      "kimri.\n",
      "reity.\n",
      "salaysie.\n",
      "mahnen.\n",
      "delynn.\n",
      "jareei.\n",
      "nellara.\n",
      "chaiivon.\n",
      "leigh.\n",
      "ham.\n",
      "jocn.\n",
      "quinthonor.\n",
      "marianni.\n",
      "watell.\n",
      "dearynix.\n",
      "kaellissa.\n",
      "med.\n",
      "edi.\n"
     ]
    }
   ],
   "source": [
    "# sample from the model \n",
    "generator = torch.Generator().manual_seed(2147483647 + 10)\n",
    "\n",
    "for _ in range(20):\n",
    "    \n",
    "    out = []\n",
    "    context = [0] * block_size\n",
    "    while True:\n",
    "        # forward pass neural net\n",
    "        embed = C[torch.tensor([context])]\n",
    "        hidden_preact = embed.view(1, -1) @ W1\n",
    "        hidden_preact = batch_normal_gain * (hidden_preact - batch_normal_mean_running) / batch_normal_std_running + batch_normal_bias\n",
    "        hidden_layer = torch.tanh(hidden_preact)\n",
    "        logits = hidden_layer @ W2 + b2\n",
    "        probabilities = F.softmax(logits, dim = 1)\n",
    "\n",
    "        # sample from distribution\n",
    "        index_x = torch.multinomial(probabilities, num_samples=1, generator=generator).item()\n",
    "\n",
    "        # shit context window\n",
    "        context = context[1:] + [index_x]\n",
    "        out.append(index_x)\n",
    "\n",
    "        # if we sample '.' token, break\n",
    "        if index_x == 0:\n",
    "            break\n",
    "    print(''.join(index_to_string[index] for index in out))"
   ]
  },
  {
   "cell_type": "code",
   "execution_count": null,
   "metadata": {},
   "outputs": [],
   "source": []
  }
 ],
 "metadata": {
  "kernelspec": {
   "display_name": ".venv",
   "language": "python",
   "name": "python3"
  },
  "language_info": {
   "codemirror_mode": {
    "name": "ipython",
    "version": 3
   },
   "file_extension": ".py",
   "mimetype": "text/x-python",
   "name": "python",
   "nbconvert_exporter": "python",
   "pygments_lexer": "ipython3",
   "version": "3.11.6"
  },
  "orig_nbformat": 4
 },
 "nbformat": 4,
 "nbformat_minor": 2
}
