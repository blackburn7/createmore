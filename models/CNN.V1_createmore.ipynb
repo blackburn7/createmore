{
 "cells": [
  {
   "cell_type": "markdown",
   "metadata": {},
   "source": [
    "<h1>CNN Token-Level Language Model</h1>"
   ]
  },
  {
   "cell_type": "code",
   "execution_count": 3,
   "metadata": {},
   "outputs": [],
   "source": [
    "import torch\n",
    "import torch.nn.functional as F\n",
    "import matplotlib.pyplot as plt\n",
    "\n",
    "%matplotlib inline"
   ]
  },
  {
   "cell_type": "code",
   "execution_count": 23,
   "metadata": {},
   "outputs": [],
   "source": [
    "# model classes\n",
    "\n",
    "class Linear:\n",
    "\t\t\n",
    "\t\tdef __init__(self, fan_in, fan_out, bias=True):\n",
    "\t\t\t\tself.weight = torch.randn((fan_in, fan_out)) / fan_in**0.5 # kaiming initialization\n",
    "\t\t\t\tself.bias = torch.zeros(fan_out) if bias else None\n",
    "\t\t\t\t\n",
    "\t\tdef __call__(self, x):\n",
    "\t\t\t\tself.out = x @ self.weight\n",
    "\t\t\t\tif self.bias is not None:\n",
    "\t\t\t\t\t\tself.out += self.bias\n",
    "\t\t\t\treturn self.out\n",
    "\t\t\n",
    "\t\tdef parameters(self):\n",
    "\t\t\t\treturn [self.weight] + ([] if self.bias is None else [self.bias])\n",
    "\t\t\n",
    "\t\t\n",
    "class BatchNorm1d:\n",
    "\t\t\n",
    "\t\tdef __init__(self, dim, eps=1e-5, momentum=0.1):\n",
    "\t\t\t\tself.eps = eps\n",
    "\t\t\t\tself.momentum = momentum\n",
    "\t\t\t\tself.training = True\n",
    "\t\t\t\t# parameters (trained with backprop)\n",
    "\t\t\t\tself.gamma = torch.ones(dim)\n",
    "\t\t\t\tself.beta = torch.zeros(dim)\n",
    "\t\t\t\t# buffers (trained with updates)\n",
    "\t\t\t\tself.running_mean = torch.zeros(dim)\n",
    "\t\t\t\tself.running_var = torch.ones(dim)\n",
    "\t\t\t\t\n",
    "\t\tdef __call__(self, x):\n",
    "\t\t\t\t# calculate forward pass\n",
    "\t\t\t\tif self.training:\n",
    "\t\t\t\t\t\tx_mean = x.mean(0, keepdim=True)\n",
    "\t\t\t\t\t\tx_var = x.var(0, keepdim=True)\n",
    "\t\t\t\telse:\n",
    "\t\t\t\t\t\tx_mean = self.running_mean\n",
    "\t\t\t\t\t\tx_var = self.running_var\n",
    "\t\t\t\t\n",
    "\t\t\t\tx_hat = (x - x_mean) / torch.sqrt(x_var + self.eps)\n",
    "\t\t\t\tself.out = self.gamma * x_hat + self.beta\n",
    "\t\t\t\t\n",
    "\t\t\t\tif self.training:\n",
    "\t\t\t\t\t\twith torch.no_grad():\n",
    "\t\t\t\t\t\t\t\tself.running_mean = (1 - self.momentum) * self.running_mean + self.momentum * x_mean\n",
    "\t\t\t\t\t\t\t\tself.running_var = (1 - self.momentum) * self.running_var + self.momentum * x_var\n",
    "\t\t\t\t\n",
    "\t\t\t\treturn self.out\n",
    "\t\t\t\t\t\t\t\t\n",
    "\t\tdef parameters(self):\n",
    "\t\t\t\treturn [self.gamma, self.beta]\n",
    "  \n",
    "class Embedding:\n",
    "\tdef __init__(self, num_embeddings, embedding_dim):\n",
    "\t\tself.weight = torch.randn((num_embeddings, embedding_dim))\n",
    "  \n",
    "\tdef __call__(self, IX):\n",
    "\t\tself.out = self.weight[IX]\n",
    "\t\treturn self.out\n",
    "\n",
    "\tdef parameters(self):\n",
    "\t\treturn [self.weight]\n",
    "\n",
    "class Flatten:\n",
    "\n",
    "\tdef __call__(self, x):\n",
    "\t\tself.out = x.view(x.shape[0], -1)\n",
    "\t\treturn self.out\n",
    "\tdef parameters(self):\n",
    "\t\treturn []\n",
    "  \t\t\t\t\t\t\n",
    "class Tanh:\n",
    "\t\tdef __call__(self, x):\n",
    "\t\t\t\tself.out = torch.tanh(x)\n",
    "\t\t\t\treturn self.out\n",
    "\t\tdef parameters(self):\n",
    "\t\t\t\treturn []\n",
    "  \n",
    "class Sequential:\n",
    "\t\n",
    "\tdef __init__(self, layers):\n",
    "\t\tself.layers = layers\n",
    "\t\n",
    "\tdef __call__(self, x):\n",
    "\t\tfor layer in self.layers:\n",
    "\t\t\tx = layer(x)\n",
    "\t\tself.out = x\n",
    "\t\treturn self.out\n",
    "\n",
    "\tdef parameters(self):\n",
    "\t\treturn [p for layer in self.layers for p in layer.parameters()]"
   ]
  },
  {
   "cell_type": "code",
   "execution_count": 14,
   "metadata": {},
   "outputs": [],
   "source": [
    "torch.manual_seed(42);"
   ]
  },
  {
   "cell_type": "code",
   "execution_count": 15,
   "metadata": {},
   "outputs": [],
   "source": [
    "# read words\n",
    "words = open('../data/names.txt').read().splitlines()\n",
    "block_size = 3"
   ]
  },
  {
   "cell_type": "code",
   "execution_count": 16,
   "metadata": {},
   "outputs": [],
   "source": [
    "# lookup table\n",
    "alphabet = list(set(''.join(words) + '.'))\n",
    "stoi = {s:i for i,s in enumerate(alphabet)}\n",
    "itos = {i:s for i,s in enumerate(alphabet)}"
   ]
  },
  {
   "cell_type": "code",
   "execution_count": 24,
   "metadata": {},
   "outputs": [],
   "source": [
    "def build_dataset(words):\n",
    "\tX = []\n",
    "\tY = []\n",
    "\tfor word in words:\n",
    "\t\tcontext = [0] * block_size\n",
    "\t\tfor c in word + '.':\n",
    "\t\t\tchar_ind = stoi[c]\n",
    "\t\t\tX.append(context)\n",
    "\t\t\tY.append(char_ind)\n",
    "\t\t\tcontext = context[1:] + [char_ind]\n",
    "\tX, Y = torch.tensor(X), torch.tensor(Y)\n",
    "\tprint(X.shape, Y.shape)\t\n",
    "\treturn X, Y\n",
    "\n",
    "\n",
    "vocab_size = 27"
   ]
  },
  {
   "cell_type": "code",
   "execution_count": 25,
   "metadata": {},
   "outputs": [
    {
     "name": "stdout",
     "output_type": "stream",
     "text": [
      "12097\n"
     ]
    }
   ],
   "source": [
    "n_embed = 10\n",
    "n_hidden = 200\n",
    "\n",
    "\n",
    "model = Sequential([\n",
    "  Embedding(vocab_size, 10),\n",
    "\tFlatten(),\n",
    "\tLinear(n_embed * block_size, n_hidden, bias = False), BatchNorm1d(n_hidden),Tanh(),\n",
    "\tLinear(n_hidden, vocab_size),\n",
    "])\n",
    "\n",
    "with torch.no_grad():\n",
    "\t\tmodel.layers[-1].weight *= 0.1 # make last layer less confident\n",
    "\t\t\n",
    "parameters = model.parameters()\n",
    "print(sum(p.nelement() for p in parameters))\n",
    "for p in parameters:\n",
    "\t\tp.requires_grad = True"
   ]
  },
  {
   "cell_type": "code",
   "execution_count": 26,
   "metadata": {},
   "outputs": [
    {
     "name": "stdout",
     "output_type": "stream",
     "text": [
      "torch.Size([182778, 3]) torch.Size([182778])\n",
      "torch.Size([22633, 3]) torch.Size([22633])\n",
      "torch.Size([22735, 3]) torch.Size([22735])\n"
     ]
    }
   ],
   "source": [
    "n1, n2 = int(0.8 * len(words)), int(0.9 * len(words))\n",
    "train_x, train_y = build_dataset(words[:n1])\n",
    "val_x, val_y = build_dataset(words[n1:n2])\n",
    "test_x, test_y = build_dataset(words[n2:])"
   ]
  },
  {
   "cell_type": "code",
   "execution_count": 27,
   "metadata": {},
   "outputs": [
    {
     "name": "stdout",
     "output_type": "stream",
     "text": [
      "      0/200000: loss = 3.5588\n",
      "   1000/200000: loss = 2.2989\n",
      "   2000/200000: loss = 1.9843\n",
      "   3000/200000: loss = 2.2470\n",
      "   4000/200000: loss = 2.3795\n",
      "   5000/200000: loss = 2.4669\n",
      "   6000/200000: loss = 2.3873\n",
      "   7000/200000: loss = 1.9923\n",
      "   8000/200000: loss = 2.1143\n",
      "   9000/200000: loss = 2.3223\n",
      "  10000/200000: loss = 2.3584\n",
      "  11000/200000: loss = 2.3660\n",
      "  12000/200000: loss = 2.3710\n",
      "  13000/200000: loss = 2.2154\n",
      "  14000/200000: loss = 2.1612\n",
      "  15000/200000: loss = 1.8943\n",
      "  16000/200000: loss = 1.8750\n",
      "  17000/200000: loss = 2.3128\n",
      "  18000/200000: loss = 2.5004\n",
      "  19000/200000: loss = 1.8309\n",
      "  20000/200000: loss = 2.3203\n",
      "  21000/200000: loss = 1.9395\n",
      "  22000/200000: loss = 2.2750\n",
      "  23000/200000: loss = 2.1645\n",
      "  24000/200000: loss = 2.4053\n",
      "  25000/200000: loss = 2.4656\n",
      "  26000/200000: loss = 2.1530\n",
      "  27000/200000: loss = 1.9496\n",
      "  28000/200000: loss = 2.4858\n",
      "  29000/200000: loss = 1.8707\n",
      "  30000/200000: loss = 1.9991\n",
      "  31000/200000: loss = 2.0580\n",
      "  32000/200000: loss = 1.6316\n",
      "  33000/200000: loss = 2.0182\n",
      "  34000/200000: loss = 2.0361\n",
      "  35000/200000: loss = 2.2460\n",
      "  36000/200000: loss = 2.0140\n",
      "  37000/200000: loss = 2.2803\n",
      "  38000/200000: loss = 1.8687\n",
      "  39000/200000: loss = 2.2684\n",
      "  40000/200000: loss = 1.7746\n",
      "  41000/200000: loss = 2.4768\n",
      "  42000/200000: loss = 1.9273\n",
      "  43000/200000: loss = 2.1587\n",
      "  44000/200000: loss = 2.1369\n",
      "  45000/200000: loss = 2.1209\n",
      "  46000/200000: loss = 2.1483\n",
      "  47000/200000: loss = 2.0870\n",
      "  48000/200000: loss = 2.2611\n",
      "  49000/200000: loss = 2.4214\n",
      "  50000/200000: loss = 1.6668\n",
      "  51000/200000: loss = 1.8484\n",
      "  52000/200000: loss = 1.8558\n",
      "  53000/200000: loss = 2.2712\n",
      "  54000/200000: loss = 2.3506\n",
      "  55000/200000: loss = 2.2080\n",
      "  56000/200000: loss = 1.8186\n",
      "  57000/200000: loss = 2.2864\n",
      "  58000/200000: loss = 2.0381\n",
      "  59000/200000: loss = 2.3950\n",
      "  60000/200000: loss = 1.8788\n",
      "  61000/200000: loss = 2.1974\n",
      "  62000/200000: loss = 2.4797\n",
      "  63000/200000: loss = 2.1106\n",
      "  64000/200000: loss = 1.8652\n",
      "  65000/200000: loss = 1.8796\n",
      "  66000/200000: loss = 2.4033\n",
      "  67000/200000: loss = 1.8425\n",
      "  68000/200000: loss = 1.8116\n",
      "  69000/200000: loss = 2.2782\n",
      "  70000/200000: loss = 2.0164\n",
      "  71000/200000: loss = 2.5073\n",
      "  72000/200000: loss = 2.2657\n",
      "  73000/200000: loss = 2.2350\n",
      "  74000/200000: loss = 2.1694\n",
      "  75000/200000: loss = 2.4490\n",
      "  76000/200000: loss = 1.9091\n",
      "  77000/200000: loss = 2.3090\n",
      "  78000/200000: loss = 2.3410\n",
      "  79000/200000: loss = 2.1898\n",
      "  80000/200000: loss = 2.1579\n",
      "  81000/200000: loss = 1.8150\n"
     ]
    }
   ],
   "source": [
    "max_steps = 200000\n",
    "batch_size = 32\n",
    "lossi = []\n",
    "\n",
    "for i in range(max_steps):\n",
    "\n",
    "\t# construct batch\n",
    "\tindexes = torch.randint(0, train_x.shape[0], (batch_size,))\n",
    "\tx_batch = train_x[indexes]\n",
    "\ty_batch = train_y[indexes]\n",
    " \n",
    "\t# forward pass\n",
    "\tlogits = model(x_batch)\n",
    "\tloss = F.cross_entropy(logits, y_batch)\n",
    " \n",
    "\t# backward pass\n",
    "\tfor p in parameters:\n",
    "\t\tp.grad = None\n",
    "\tloss.backward()\n",
    " \n",
    "\t# update\n",
    "\tlr = 0.1 if i < 100000 else 0.01\n",
    "\tfor p in parameters:\n",
    "\t\tp.data += - p.grad * lr\n",
    "  \n",
    "  # track\n",
    "\tlossi.append(loss.item())\n",
    " \n",
    "\tif i % 1000 == 0:\n",
    "\t\tprint(f'{i:7d}/{max_steps}: loss = {loss.item():.4f}')\n"
   ]
  },
  {
   "cell_type": "code",
   "execution_count": 20,
   "metadata": {},
   "outputs": [
    {
     "data": {
      "text/plain": [
       "[<matplotlib.lines.Line2D at 0x17cf8ffd0>]"
      ]
     },
     "execution_count": 20,
     "metadata": {},
     "output_type": "execute_result"
    },
    {
     "data": {
      "image/png": "[encoded data removed]",
      "text/plain": [
       "<Figure size 640x480 with 1 Axes>"
      ]
     },
     "metadata": {},
     "output_type": "display_data"
    }
   ],
   "source": [
    "plt.plot(torch.tensor(lossi).view(-1, 1000).mean(1))"
   ]
  },
  {
   "cell_type": "code",
   "execution_count": 21,
   "metadata": {},
   "outputs": [
    {
     "name": "stdout",
     "output_type": "stream",
     "text": [
      "train 3.2949862480163574\n",
      "val 3.2947444915771484\n"
     ]
    }
   ],
   "source": [
    "# eval loss\n",
    "@torch.no_grad()\n",
    "def split_loss(split):\n",
    "\tx,y = {\n",
    "\t\t'train': (train_x, train_y),\n",
    "\t\t'val': (val_x, val_y),\n",
    "\t\t'test': (test_x, test_y),\n",
    "\t}[split]\n",
    "\tembed = C[x]\n",
    "\tx = embed.view(embed.shape[0], -1)\n",
    "\tfor layer in layers:\n",
    "\t\tx = layer(x)\n",
    "\tloss = F.cross_entropy(x, y)\n",
    "\tprint(split, loss.item())\n",
    " \n",
    "split_loss('train')\n",
    "split_loss('val')"
   ]
  },
  {
   "cell_type": "code",
   "execution_count": 22,
   "metadata": {},
   "outputs": [
    {
     "name": "stdout",
     "output_type": "stream",
     "text": [
      "tensor([[ 0.7469,  0.9289,  0.3156, -0.4237,  0.4632, -0.1888,  0.4812, -1.0846,\n",
      "         -0.3489,  0.7696,  0.7469,  0.9289,  0.3156, -0.4237,  0.4632, -0.1888,\n",
      "          0.4812, -1.0846, -0.3489,  0.7696,  0.7469,  0.9289,  0.3156, -0.4237,\n",
      "          0.4632, -0.1888,  0.4812, -1.0846, -0.3489,  0.7696]],\n",
      "       grad_fn=<ViewBackward0>)\n"
     ]
    },
    {
     "ename": "RuntimeError",
     "evalue": "probability tensor contains either `inf`, `nan` or element < 0",
     "output_type": "error",
     "traceback": [
      "\u001b[0;31m---------------------------------------------------------------------------\u001b[0m",
      "\u001b[0;31mRuntimeError\u001b[0m                              Traceback (most recent call last)",
      "Cell \u001b[0;32mIn[22], line 13\u001b[0m\n\u001b[1;32m     11\u001b[0m logits \u001b[38;5;241m=\u001b[39m x\n\u001b[1;32m     12\u001b[0m probs \u001b[38;5;241m=\u001b[39m F\u001b[38;5;241m.\u001b[39msoftmax(logits, dim\u001b[38;5;241m=\u001b[39m\u001b[38;5;241m1\u001b[39m)\n\u001b[0;32m---> 13\u001b[0m ix \u001b[38;5;241m=\u001b[39m \u001b[43mtorch\u001b[49m\u001b[38;5;241;43m.\u001b[39;49m\u001b[43mmultinomial\u001b[49m\u001b[43m(\u001b[49m\u001b[43mprobs\u001b[49m\u001b[43m,\u001b[49m\u001b[43m \u001b[49m\u001b[43mnum_samples\u001b[49m\u001b[38;5;241;43m=\u001b[39;49m\u001b[38;5;241;43m1\u001b[39;49m\u001b[43m)\u001b[49m\u001b[38;5;241m.\u001b[39mitem()\n\u001b[1;32m     16\u001b[0m out\u001b[38;5;241m.\u001b[39mappend(ix)\n\u001b[1;32m     17\u001b[0m context \u001b[38;5;241m=\u001b[39m context[\u001b[38;5;241m1\u001b[39m:] \u001b[38;5;241m+\u001b[39m [ix]\n",
      "\u001b[0;31mRuntimeError\u001b[0m: probability tensor contains either `inf`, `nan` or element < 0"
     ]
    }
   ],
   "source": [
    "for _ in range(20):\n",
    "\t\n",
    "\tout = []\n",
    "\tcontext = [0] * block_size\n",
    "\twhile True:\n",
    "\t\tembed = C[torch.tensor([context])]\n",
    "\t\tx = embed.view(embed.shape[0], -1)\n",
    "\t\tprint(x)\n",
    "\t\tfor layer in layers:\n",
    "\t\t\tx = layer(x)\n",
    "\t\tlogits = x\n",
    "\t\tprobs = F.softmax(logits, dim=1)\n",
    "\t\tix = torch.multinomial(probs, num_samples=1).item()\n",
    "  \n",
    "  \n",
    "\t\tout.append(ix)\n",
    "\t\tcontext = context[1:] + [ix]\n",
    "\t\tif ix == 0:\n",
    "\t\t\tbreak\n",
    "\tprint(itos[i] for i in out)\n"
   ]
  },
  {
   "cell_type": "code",
   "execution_count": null,
   "metadata": {},
   "outputs": [],
   "source": []
  }
 ],
 "metadata": {
  "kernelspec": {
   "display_name": "Python 3",
   "language": "python",
   "name": "python3"
  },
  "language_info": {
   "codemirror_mode": {
    "name": "ipython",
    "version": 3
   },
   "file_extension": ".py",
   "mimetype": "text/x-python",
   "name": "python",
   "nbconvert_exporter": "python",
   "pygments_lexer": "ipython3",
   "version": "3.11.6"
  }
 },
 "nbformat": 4,
 "nbformat_minor": 2
}
