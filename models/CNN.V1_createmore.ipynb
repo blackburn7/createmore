{
 "cells": [
  {
   "cell_type": "markdown",
   "metadata": {},
   "source": [
    "<h1>CNN Token-Level Language Model</h1>"
   ]
  },
  {
   "cell_type": "code",
   "execution_count": 1,
   "metadata": {},
   "outputs": [],
   "source": [
    "import torch\n",
    "import torch.nn.functional as F\n",
    "import matplotlib.pyplot as plt\n",
    "\n",
    "%matplotlib inline"
   ]
  },
  {
   "cell_type": "code",
   "execution_count": 2,
   "metadata": {},
   "outputs": [],
   "source": [
    "# model classes\n",
    "\n",
    "class Linear:\n",
    "\t\t\n",
    "\t\tdef __init__(self, fan_in, fan_out, bias=True):\n",
    "\t\t\t\tself.weight = torch.randn((fan_in, fan_out)) / fan_in**0.5 # kaiming initialization\n",
    "\t\t\t\tself.bias = torch.zeros(fan_out) if bias else None\n",
    "\t\t\t\t\n",
    "\t\tdef __call__(self, x):\n",
    "\t\t\t\tself.out = x @ self.weight\n",
    "\t\t\t\tif self.bias is not None:\n",
    "\t\t\t\t\t\tself.out += self.bias\n",
    "\t\t\t\treturn self.out\n",
    "\t\t\n",
    "\t\tdef parameters(self):\n",
    "\t\t\t\treturn [self.weight] + ([] if self.bias is None else [self.bias])\n",
    "\t\t\n",
    "\t\t\n",
    "class BatchNorm1d:\n",
    "\t\t\n",
    "\t\tdef __init__(self, dim, eps=1e-5, momentum=0.1):\n",
    "\t\t\t\tself.eps = eps\n",
    "\t\t\t\tself.momentum = momentum\n",
    "\t\t\t\tself.training = True\n",
    "\t\t\t\t# parameters (trained with backprop)\n",
    "\t\t\t\tself.gamma = torch.ones(dim)\n",
    "\t\t\t\tself.beta = torch.zeros(dim)\n",
    "\t\t\t\t# buffers (trained with updates)\n",
    "\t\t\t\tself.running_mean = torch.zeros(dim)\n",
    "\t\t\t\tself.running_var = torch.ones(dim)\n",
    "\t\t\t\t\n",
    "\t\tdef __call__(self, x):\n",
    "\t\t\t\t# calculate forward pass\n",
    "\t\t\t\tif self.training:\n",
    "\t\t\t\t\tif x.ndim == 2:\n",
    "\t\t\t\t\t\tdim = 0\n",
    "\t\t\t\t\telif x.ndim == 3:\n",
    "\t\t\t\t\t\tdim = (0,1)\n",
    "\t\t\t\t\tx_mean = x.mean(dim, keepdim=True)\n",
    "\t\t\t\t\tx_var = x.var(dim, keepdim=True)\n",
    "\t\t\t\telse:\n",
    "\t\t\t\t\t\tx_mean = self.running_mean\n",
    "\t\t\t\t\t\tx_var = self.running_var\n",
    "\t\t\t\t\n",
    "\t\t\t\tx_hat = (x - x_mean) / torch.sqrt(x_var + self.eps)\n",
    "\t\t\t\tself.out = self.gamma * x_hat + self.beta\n",
    "\t\t\t\t\n",
    "\t\t\t\tif self.training:\n",
    "\t\t\t\t\t\twith torch.no_grad():\n",
    "\t\t\t\t\t\t\t\tself.running_mean = (1 - self.momentum) * self.running_mean + self.momentum * x_mean\n",
    "\t\t\t\t\t\t\t\tself.running_var = (1 - self.momentum) * self.running_var + self.momentum * x_var\n",
    "\t\t\t\t\n",
    "\t\t\t\treturn self.out\n",
    "\t\t\t\t\t\t\t\t\n",
    "\t\tdef parameters(self):\n",
    "\t\t\t\treturn [self.gamma, self.beta]\n",
    "  \n",
    "class Embedding:\n",
    "\tdef __init__(self, num_embeddings, embedding_dim):\n",
    "\t\tself.weight = torch.randn((num_embeddings, embedding_dim))\n",
    "  \n",
    "\tdef __call__(self, IX):\n",
    "\t\tself.out = self.weight[IX]\n",
    "\t\treturn self.out\n",
    "\n",
    "\tdef parameters(self):\n",
    "\t\treturn [self.weight]\n",
    "\n",
    "class FlattenConsecutive:\n",
    "\n",
    "\tdef __init__(self, n):\n",
    "\t\tself.n = n\n",
    "\tdef __call__(self, x):\n",
    "\t\tB, T, C = x.shape\n",
    "\t\tx = x.view(B, T//self.n, C*self.n)\n",
    "\t\tif x.shape[1] == 1:\n",
    "\t\t\tx = x.squeeze(1)\n",
    "\t\tself.out = x\n",
    "\t\treturn self.out\n",
    "\tdef parameters(self):\n",
    "\t\treturn []\n",
    "  \t\t\t\t\t\t\n",
    "class Tanh:\n",
    "\t\tdef __call__(self, x):\n",
    "\t\t\t\tself.out = torch.tanh(x)\n",
    "\t\t\t\treturn self.out\n",
    "\t\tdef parameters(self):\n",
    "\t\t\t\treturn []\n",
    "  \n",
    "class Sequential:\n",
    "\t\n",
    "\tdef __init__(self, layers):\n",
    "\t\tself.layers = layers\n",
    "\t\n",
    "\tdef __call__(self, x):\n",
    "\t\tfor layer in self.layers:\n",
    "\t\t\tx = layer(x)\n",
    "\t\tself.out = x\n",
    "\t\treturn self.out\n",
    "\n",
    "\tdef parameters(self):\n",
    "\t\treturn [p for layer in self.layers for p in layer.parameters()]"
   ]
  },
  {
   "cell_type": "code",
   "execution_count": 3,
   "metadata": {},
   "outputs": [],
   "source": [
    "torch.manual_seed(42);"
   ]
  },
  {
   "cell_type": "code",
   "execution_count": null,
   "metadata": {},
   "outputs": [],
   "source": []
  },
  {
   "cell_type": "code",
   "execution_count": 4,
   "metadata": {},
   "outputs": [],
   "source": [
    "# read words\n",
    "words = open('../data/names.txt').read().splitlines()\n",
    "# lookup table\n",
    "alphabet = sorted(list(set(''.join(words) + '.')))\n",
    "stoi = {s:i for i,s in enumerate(alphabet)}\n",
    "itos = {ind: char for char, ind in stoi.items()}"
   ]
  },
  {
   "cell_type": "code",
   "execution_count": 5,
   "metadata": {},
   "outputs": [],
   "source": [
    "block_size = 8\n",
    "def build_dataset(words):\n",
    "\tX = []\n",
    "\tY = []\n",
    "\tfor word in words:\n",
    "\t\tcontext = [0] * block_size\n",
    "\t\tfor c in word + '.':\n",
    "\t\t\tchar_ind = stoi[c]\n",
    "\t\t\tX.append(context)\n",
    "\t\t\tY.append(char_ind)\n",
    "\t\t\tcontext = context[1:] + [char_ind]\n",
    "\tX, Y = torch.tensor(X), torch.tensor(Y)\n",
    "\tprint(X.shape, Y.shape)\t\n",
    "\treturn X, Y\n",
    "\n",
    "\n",
    "vocab_size = 27"
   ]
  },
  {
   "cell_type": "code",
   "execution_count": 6,
   "metadata": {},
   "outputs": [
    {
     "name": "stdout",
     "output_type": "stream",
     "text": [
      "torch.Size([182778, 8]) torch.Size([182778])\n",
      "torch.Size([22633, 8]) torch.Size([22633])\n",
      "torch.Size([22735, 8]) torch.Size([22735])\n"
     ]
    }
   ],
   "source": [
    "n1, n2 = int(0.8 * len(words)), int(0.9 * len(words))\n",
    "train_x, train_y = build_dataset(words[:n1])\n",
    "val_x, val_y = build_dataset(words[n1:n2])\n",
    "test_x, test_y = build_dataset(words[n2:])"
   ]
  },
  {
   "cell_type": "code",
   "execution_count": 7,
   "metadata": {},
   "outputs": [
    {
     "name": "stdout",
     "output_type": "stream",
     "text": [
      "........ -> e\n",
      ".......e -> m\n",
      "......em -> m\n",
      ".....emm -> a\n",
      "....emma -> .\n",
      "........ -> o\n",
      ".......o -> l\n",
      "......ol -> i\n",
      ".....oli -> v\n",
      "....oliv -> i\n"
     ]
    }
   ],
   "source": [
    "for x, y in zip(train_x[:10], train_y[:10]):\n",
    "\tprint(''.join(itos[char.item()] for char in x), \"->\", itos[y.item()])"
   ]
  },
  {
   "cell_type": "code",
   "execution_count": 8,
   "metadata": {},
   "outputs": [
    {
     "name": "stdout",
     "output_type": "stream",
     "text": [
      "76201\n"
     ]
    }
   ],
   "source": [
    "n_embed = 24\n",
    "n_hidden = 128\n",
    "\n",
    "\n",
    "model = Sequential([\n",
    "  Embedding(vocab_size, n_embed),\n",
    "\tFlattenConsecutive(2), Linear(n_embed * 2, n_hidden, bias = False), BatchNorm1d(n_hidden),Tanh(),\n",
    "\tFlattenConsecutive(2), Linear(n_hidden * 2, n_hidden, bias = False), BatchNorm1d(n_hidden),Tanh(),\n",
    " \tFlattenConsecutive(2), Linear(n_hidden * 2, n_hidden, bias = False), BatchNorm1d(n_hidden),Tanh(),\n",
    "\tLinear(n_hidden, vocab_size),\n",
    "])\n",
    "\n",
    "with torch.no_grad():\n",
    "\t\tmodel.layers[-1].weight *= 0.1 # make last layer less confident\n",
    "\t\t\n",
    "parameters = model.parameters()\n",
    "print(sum(p.nelement() for p in parameters))\n",
    "for p in parameters:\n",
    "\t\tp.requires_grad = True"
   ]
  },
  {
   "cell_type": "code",
   "execution_count": null,
   "metadata": {},
   "outputs": [],
   "source": []
  },
  {
   "cell_type": "code",
   "execution_count": 9,
   "metadata": {},
   "outputs": [
    {
     "ename": "RuntimeError",
     "evalue": "mat1 and mat2 shapes cannot be multiplied (128x20 and 48x128)",
     "output_type": "error",
     "traceback": [
      "\u001b[0;31m---------------------------------------------------------------------------\u001b[0m",
      "\u001b[0;31mRuntimeError\u001b[0m                              Traceback (most recent call last)",
      "Cell \u001b[0;32mIn[9], line 13\u001b[0m\n\u001b[1;32m     10\u001b[0m y_batch \u001b[38;5;241m=\u001b[39m train_y[indexes]\n\u001b[1;32m     12\u001b[0m \u001b[38;5;66;03m# forward pass\u001b[39;00m\n\u001b[0;32m---> 13\u001b[0m logits \u001b[38;5;241m=\u001b[39m \u001b[43mmodel\u001b[49m\u001b[43m(\u001b[49m\u001b[43mx_batch\u001b[49m\u001b[43m)\u001b[49m\n\u001b[1;32m     14\u001b[0m loss \u001b[38;5;241m=\u001b[39m F\u001b[38;5;241m.\u001b[39mcross_entropy(logits, y_batch)\n\u001b[1;32m     16\u001b[0m \u001b[38;5;66;03m# backward pass\u001b[39;00m\n",
      "Cell \u001b[0;32mIn[2], line 97\u001b[0m, in \u001b[0;36mSequential.__call__\u001b[0;34m(self, x)\u001b[0m\n\u001b[1;32m     95\u001b[0m \u001b[38;5;28;01mdef\u001b[39;00m \u001b[38;5;21m__call__\u001b[39m(\u001b[38;5;28mself\u001b[39m, x):\n\u001b[1;32m     96\u001b[0m \t\u001b[38;5;28;01mfor\u001b[39;00m layer \u001b[38;5;129;01min\u001b[39;00m \u001b[38;5;28mself\u001b[39m\u001b[38;5;241m.\u001b[39mlayers:\n\u001b[0;32m---> 97\u001b[0m \t\tx \u001b[38;5;241m=\u001b[39m \u001b[43mlayer\u001b[49m\u001b[43m(\u001b[49m\u001b[43mx\u001b[49m\u001b[43m)\u001b[49m\n\u001b[1;32m     98\u001b[0m \t\u001b[38;5;28mself\u001b[39m\u001b[38;5;241m.\u001b[39mout \u001b[38;5;241m=\u001b[39m x\n\u001b[1;32m     99\u001b[0m \t\u001b[38;5;28;01mreturn\u001b[39;00m \u001b[38;5;28mself\u001b[39m\u001b[38;5;241m.\u001b[39mout\n",
      "Cell \u001b[0;32mIn[2], line 10\u001b[0m, in \u001b[0;36mLinear.__call__\u001b[0;34m(self, x)\u001b[0m\n\u001b[1;32m      9\u001b[0m \u001b[38;5;28;01mdef\u001b[39;00m \u001b[38;5;21m__call__\u001b[39m(\u001b[38;5;28mself\u001b[39m, x):\n\u001b[0;32m---> 10\u001b[0m \t\t\u001b[38;5;28mself\u001b[39m\u001b[38;5;241m.\u001b[39mout \u001b[38;5;241m=\u001b[39m \u001b[43mx\u001b[49m\u001b[43m \u001b[49m\u001b[38;5;241;43m@\u001b[39;49m\u001b[43m \u001b[49m\u001b[38;5;28;43mself\u001b[39;49m\u001b[38;5;241;43m.\u001b[39;49m\u001b[43mweight\u001b[49m\n\u001b[1;32m     11\u001b[0m \t\t\u001b[38;5;28;01mif\u001b[39;00m \u001b[38;5;28mself\u001b[39m\u001b[38;5;241m.\u001b[39mbias \u001b[38;5;129;01mis\u001b[39;00m \u001b[38;5;129;01mnot\u001b[39;00m \u001b[38;5;28;01mNone\u001b[39;00m:\n\u001b[1;32m     12\u001b[0m \t\t\t\t\u001b[38;5;28mself\u001b[39m\u001b[38;5;241m.\u001b[39mout \u001b[38;5;241m+\u001b[39m\u001b[38;5;241m=\u001b[39m \u001b[38;5;28mself\u001b[39m\u001b[38;5;241m.\u001b[39mbias\n",
      "\u001b[0;31mRuntimeError\u001b[0m: mat1 and mat2 shapes cannot be multiplied (128x20 and 48x128)"
     ]
    }
   ],
   "source": [
    "max_steps = 200000\n",
    "batch_size = 32\n",
    "lossi = []\n",
    "\n",
    "for i in range(max_steps):\n",
    "\n",
    "\t# construct batch\n",
    "\tindexes = torch.randint(0, train_x.shape[0], (batch_size,))\n",
    "\tx_batch = train_x[indexes]\n",
    "\ty_batch = train_y[indexes]\n",
    " \n",
    "\t# forward pass\n",
    "\tlogits = model(x_batch)\n",
    "\tloss = F.cross_entropy(logits, y_batch)\n",
    " \n",
    "\t# backward pass\n",
    "\tfor p in parameters:\n",
    "\t\tp.grad = None\n",
    "\tloss.backward()\n",
    "\n",
    " \n",
    "\t# update\n",
    "\tlr = 0.1 if i < 100000 else 0.01\n",
    "\tfor p in parameters:\n",
    "\t\tp.data += - p.grad * lr\n",
    "  \n",
    "  # track\n",
    "\tlossi.append(loss.item())\n",
    " \n",
    "\tif i % 1000 == 0:\n",
    "\t\tprint(f'{i:7d}/{max_steps}: loss = {loss.item():.4f}')"
   ]
  },
  {
   "cell_type": "code",
   "execution_count": null,
   "metadata": {},
   "outputs": [
    {
     "name": "stdout",
     "output_type": "stream",
     "text": [
      "Embedding : torch.Size([32, 8, 10])\n",
      "FlattenConsecutive : torch.Size([32, 4, 20])\n",
      "Linear : torch.Size([32, 4, 68])\n",
      "BatchNorm1d : torch.Size([32, 4, 68])\n",
      "Tanh : torch.Size([32, 4, 68])\n",
      "FlattenConsecutive : torch.Size([32, 2, 136])\n",
      "Linear : torch.Size([32, 2, 68])\n",
      "BatchNorm1d : torch.Size([32, 2, 68])\n",
      "Tanh : torch.Size([32, 2, 68])\n",
      "FlattenConsecutive : torch.Size([32, 136])\n",
      "Linear : torch.Size([32, 68])\n",
      "BatchNorm1d : torch.Size([32, 68])\n",
      "Tanh : torch.Size([32, 68])\n",
      "Linear : torch.Size([32, 27])\n"
     ]
    }
   ],
   "source": [
    "for layer in model.layers:\n",
    "\tprint(layer.__class__.__name__, ':', layer.out.shape)"
   ]
  },
  {
   "cell_type": "code",
   "execution_count": null,
   "metadata": {},
   "outputs": [
    {
     "data": {
      "text/plain": [
       "[<matplotlib.lines.Line2D at 0x16cbd7250>]"
      ]
     },
     "execution_count": 42,
     "metadata": {},
     "output_type": "execute_result"
    },
    {
     "data": {
      "image/png": "[encoded data removed]",
      "text/plain": [
       "<Figure size 640x480 with 1 Axes>"
      ]
     },
     "metadata": {},
     "output_type": "display_data"
    }
   ],
   "source": [
    "plt.plot(torch.tensor(lossi).view(-1, 1000).mean(1))"
   ]
  },
  {
   "cell_type": "code",
   "execution_count": null,
   "metadata": {},
   "outputs": [],
   "source": [
    "for layer in model.layers:\n",
    "\tlayer.training = False"
   ]
  },
  {
   "cell_type": "code",
   "execution_count": null,
   "metadata": {},
   "outputs": [
    {
     "name": "stdout",
     "output_type": "stream",
     "text": [
      "train 1.8757051229476929\n",
      "val 2.2543463706970215\n"
     ]
    }
   ],
   "source": [
    "# eval loss\n",
    "@torch.no_grad()\n",
    "def split_loss(split):\n",
    "\tx,y = {\n",
    "\t\t'train': (train_x, train_y),\n",
    "\t\t'val': (val_x, val_y),\n",
    "\t\t'test': (test_x, test_y),\n",
    "\t}[split]\n",
    "\tlogits = model(x)\n",
    "\tloss = F.cross_entropy(logits, y)\n",
    "\tprint(split, loss.item())\n",
    " \n",
    "split_loss('train')\n",
    "split_loss('val')"
   ]
  },
  {
   "cell_type": "code",
   "execution_count": null,
   "metadata": {},
   "outputs": [
    {
     "name": "stdout",
     "output_type": "stream",
     "text": [
      "kamorrelia.\n",
      "cori.\n",
      "chana.\n",
      "jasla.\n",
      "anollie.\n",
      "adily.\n",
      "noriannah.\n",
      "rhelan.\n",
      "alona.\n",
      "oshie.\n",
      "abrijah.\n",
      "randre.\n",
      "labiah.\n",
      "malea.\n",
      "zares.\n",
      "courtney.\n",
      "kanyah.\n",
      "zesvin.\n",
      "emmaleigh.\n",
      "breckhe.\n"
     ]
    }
   ],
   "source": [
    "for _ in range(20):\n",
    "\t\n",
    "\tout = []\n",
    "\tcontext = [0] * block_size\n",
    "\twhile True:\n",
    "\t\tlogits = model(torch.tensor([context]))\n",
    "\t\tprobs = F.softmax(logits, dim=1)\n",
    "\t\tix = torch.multinomial(probs, num_samples=1).item()\n",
    "  \n",
    "\t\tcontext = context[1:] + [ix]\n",
    "\t\tout.append(ix)\n",
    "\t\tif ix == 0:\n",
    "\t\t\tbreak\n",
    "\tprint(''.join(itos[i] for i in out))\n"
   ]
  },
  {
   "cell_type": "code",
   "execution_count": null,
   "metadata": {},
   "outputs": [],
   "source": []
  },
  {
   "cell_type": "markdown",
   "metadata": {},
   "source": [
    "### performance log\n",
    "\n",
    "- original: mlp w/ 8 chars of context (train 1.88, val 2.25) \n",
    "- CNN iteration V1: wavenet implementation ()"
   ]
  }
 ],
 "metadata": {
  "kernelspec": {
   "display_name": "Python 3",
   "language": "python",
   "name": "python3"
  },
  "language_info": {
   "codemirror_mode": {
    "name": "ipython",
    "version": 3
   },
   "file_extension": ".py",
   "mimetype": "text/x-python",
   "name": "python",
   "nbconvert_exporter": "python",
   "pygments_lexer": "ipython3",
   "version": "3.11.6"
  }
 },
 "nbformat": 4,
 "nbformat_minor": 2
}
